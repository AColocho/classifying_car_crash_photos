{
 "cells": [
  {
   "cell_type": "markdown",
   "metadata": {},
   "source": [
    "# CNN To Recognize Car Crashes"
   ]
  },
  {
   "cell_type": "markdown",
   "metadata": {},
   "source": [
    "Importing necessary packages."
   ]
  },
  {
   "cell_type": "code",
   "execution_count": 35,
   "metadata": {},
   "outputs": [],
   "source": [
    "import pandas as pd\n",
    "import numpy as np\n",
    "import matplotlib.pyplot as plt\n",
    "import seaborn as sns\n",
    "import os\n",
    "from PIL import Image as img\n",
    "%matplotlib inline"
   ]
  },
  {
   "cell_type": "markdown",
   "metadata": {},
   "source": [
    "Storing path to photos in variable and creating a list of the images."
   ]
  },
  {
   "cell_type": "code",
   "execution_count": 2,
   "metadata": {},
   "outputs": [],
   "source": [
    "crash_path = 'images/Accident -Detection/crash'\n",
    "non_crash_path = 'images/Accident -Detection/non_crash'"
   ]
  },
  {
   "cell_type": "code",
   "execution_count": 22,
   "metadata": {},
   "outputs": [],
   "source": [
    "crash_img = os.listdir(crash_path)\n",
    "non_crash_img = os.listdir(non_crash_path)"
   ]
  },
  {
   "cell_type": "code",
   "execution_count": 23,
   "metadata": {},
   "outputs": [
    {
     "name": "stdout",
     "output_type": "stream",
     "text": [
      "2398\n",
      "2500\n"
     ]
    }
   ],
   "source": [
    "print(len(crash_img))\n",
    "print(len(non_crash_img))"
   ]
  },
  {
   "cell_type": "markdown",
   "metadata": {},
   "source": [
    "Visualizing photos of both datasets. Images are at a 28x28 resolution."
   ]
  },
  {
   "cell_type": "code",
   "execution_count": 24,
   "metadata": {},
   "outputs": [
    {
     "data": {
      "image/png": "[encoded data removed]",
      "text/plain": [
       "<Figure size 432x288 with 1 Axes>"
      ]
     },
     "metadata": {
      "needs_background": "light"
     },
     "output_type": "display_data"
    }
   ],
   "source": [
    "plt.imshow(img.open(crash_path+'/'+crash_img[0]))\n",
    "plt.show()"
   ]
  },
  {
   "cell_type": "code",
   "execution_count": 26,
   "metadata": {},
   "outputs": [
    {
     "data": {
      "image/png": "[encoded data removed]",
      "text/plain": [
       "<Figure size 432x288 with 1 Axes>"
      ]
     },
     "metadata": {
      "needs_background": "light"
     },
     "output_type": "display_data"
    }
   ],
   "source": [
    "plt.imshow(img.open(non_crash_path+'/'+non_crash_img[0]))\n",
    "plt.show()"
   ]
  },
  {
   "cell_type": "markdown",
   "metadata": {},
   "source": [
    "Functions to move images around to folders to process them faster in the neural network."
   ]
  },
  {
   "cell_type": "code",
   "execution_count": 32,
   "metadata": {},
   "outputs": [],
   "source": [
    "def make_train_test_path():\n",
    "    os.mkdir('images/train/no_crash')\n",
    "    os.mkdir('images/train/crash')\n",
    "\n",
    "    os.mkdir('images/test/no_crash')\n",
    "    os.mkdir('images/test/crash')"
   ]
  },
  {
   "cell_type": "code",
   "execution_count": 44,
   "metadata": {},
   "outputs": [],
   "source": [
    "def move_crash_img():\n",
    "    img_count = 0\n",
    "    for img in crash_img:\n",
    "        if img_count < (len(crash_img) * .75):\n",
    "            os.rename(crash_path+'/'+img,'images/train/crash/{}'.format(img))\n",
    "        else:\n",
    "            os.rename(crash_path+'/'+img,'images/test/crash/{}'.format(img))\n",
    "        img_count += 1"
   ]
  },
  {
   "cell_type": "code",
   "execution_count": 46,
   "metadata": {},
   "outputs": [],
   "source": [
    "def move_no_crash_img():\n",
    "    img_count = 0\n",
    "    for img in non_crash_img:\n",
    "        if img_count < (len(non_crash_img) * .75):\n",
    "            os.rename(non_crash_path+'/'+img,'images/train/no_crash/{}'.format(img))\n",
    "        else:\n",
    "            os.rename(non_crash_path+'/'+img,'images/test/no_crash/{}'.format(img))\n",
    "        img_count += 1"
   ]
  },
  {
   "cell_type": "markdown",
   "metadata": {},
   "source": [
    "# Neural Network"
   ]
  },
  {
   "cell_type": "markdown",
   "metadata": {},
   "source": [
    "Importing necessary packages. "
   ]
  },
  {
   "cell_type": "code",
   "execution_count": 3,
   "metadata": {},
   "outputs": [],
   "source": [
    "from sklearn.metrics import classification_report, confusion_matrix, accuracy_score\n",
    "from keras.preprocessing.image import ImageDataGenerator\n",
    "from keras.models import Sequential\n",
    "from keras.layers import Dense, Dropout, Flatten, Conv2D, MaxPooling2D, BatchNormalization"
   ]
  },
  {
   "cell_type": "markdown",
   "metadata": {},
   "source": [
    "## Base Iteration"
   ]
  },
  {
   "cell_type": "markdown",
   "metadata": {},
   "source": [
    "Creating generators from the dataset in full RGB color."
   ]
  },
  {
   "cell_type": "code",
   "execution_count": 4,
   "metadata": {},
   "outputs": [
    {
     "name": "stdout",
     "output_type": "stream",
     "text": [
      "Found 3674 images belonging to 2 classes.\n",
      "Found 1224 images belonging to 2 classes.\n"
     ]
    }
   ],
   "source": [
    "base_train = ImageDataGenerator(rescale=1./255).flow_from_directory('images/train',class_mode='categorical',batch_size=3674)\n",
    "base_test = ImageDataGenerator(rescale=1./255).flow_from_directory('images/test',class_mode='categorical',batch_size=1224)"
   ]
  },
  {
   "cell_type": "markdown",
   "metadata": {},
   "source": [
    "Unpacking generators."
   ]
  },
  {
   "cell_type": "code",
   "execution_count": 5,
   "metadata": {},
   "outputs": [],
   "source": [
    "X_train, y_train_label = next(base_train)\n",
    "X_test, y_test_label = next(base_test)"
   ]
  },
  {
   "cell_type": "markdown",
   "metadata": {},
   "source": [
    "Checking shape of inputs."
   ]
  },
  {
   "cell_type": "code",
   "execution_count": 6,
   "metadata": {},
   "outputs": [
    {
     "name": "stdout",
     "output_type": "stream",
     "text": [
      "X Shape: (3674, 256, 256, 3)\n",
      "y Shape: (3674, 2)\n",
      "X test Shape: (1224, 256, 256, 3)\n",
      "y test Shape: (1224, 2)\n"
     ]
    }
   ],
   "source": [
    "print('X Shape: '+str(X_train.shape))\n",
    "print('y Shape: '+ str(y_train_label.shape))\n",
    "print('X test Shape: '+str(X_test.shape))\n",
    "print('y test Shape: '+ str(y_test_label.shape))"
   ]
  },
  {
   "cell_type": "markdown",
   "metadata": {},
   "source": [
    "Due to lack of computational power, all training of the model will be done in Google colab. Therefore, the arrays will be saved to binary npy files to be exported to Google colab."
   ]
  },
  {
   "cell_type": "code",
   "execution_count": 25,
   "metadata": {},
   "outputs": [],
   "source": [
    "#np.save('X_train.npy',X_train)\n",
    "#np.save('y_train.npy',y_train_label)\n",
    "#np.save('X_test',X_test)"
   ]
  },
  {
   "cell_type": "markdown",
   "metadata": {},
   "source": [
    "Used model from Keras article on training models with a small dataset. Made no adjustments because the model perform satisfactorily. However, with a bigger dataset adjustments will be necessary."
   ]
  },
  {
   "cell_type": "code",
   "execution_count": 92,
   "metadata": {},
   "outputs": [],
   "source": [
    "model = Sequential()\n",
    "model.add(Conv2D(32, kernel_size=(3, 3), activation='relu', input_shape=(256,256,3)))\n",
    "model.add(MaxPooling2D(pool_size=(2, 2)))\n",
    "\n",
    "model.add(Conv2D(32, kernel_size=(3, 3), activation='relu'))\n",
    "model.add(MaxPooling2D(pool_size=(2, 2)))\n",
    "\n",
    "model.add(Conv2D(64, kernel_size=(3, 3), activation='relu'))\n",
    "model.add(MaxPooling2D(pool_size=(2, 2)))\n",
    "\n",
    "model.add(Flatten())\n",
    "model.add(Dense(64, activation='relu'))\n",
    "model.add(Dropout(0.5))\n",
    "model.add(Dense(2, activation='sigmoid'))\n",
    "\n",
    "model.compile(loss='binary_crossentropy',optimizer='adam',metrics=['accuracy'])"
   ]
  },
  {
   "cell_type": "markdown",
   "metadata": {},
   "source": [
    "Loading numpy binary file of predictions made from Google colab."
   ]
  },
  {
   "cell_type": "code",
   "execution_count": 10,
   "metadata": {},
   "outputs": [],
   "source": [
    "base_preds = np.load('preds/base_preds.npy')"
   ]
  },
  {
   "cell_type": "markdown",
   "metadata": {},
   "source": [
    "Processing array to be examined."
   ]
  },
  {
   "cell_type": "code",
   "execution_count": 12,
   "metadata": {},
   "outputs": [],
   "source": [
    "base_preds_processed = np.array([np.argmax(x) for x in base_preds])\n",
    "y_test_processed = np.array([np.argmax(x) for x in y_test_label])"
   ]
  },
  {
   "cell_type": "code",
   "execution_count": 39,
   "metadata": {},
   "outputs": [
    {
     "data": {
      "image/png": "[encoded data removed]",
      "text/plain": [
       "<Figure size 432x288 with 2 Axes>"
      ]
     },
     "metadata": {
      "needs_background": "light"
     },
     "output_type": "display_data"
    },
    {
     "name": "stdout",
     "output_type": "stream",
     "text": [
      "              precision    recall  f1-score   support\n",
      "\n",
      "           0       0.91      0.91      0.91       599\n",
      "           1       0.91      0.91      0.91       625\n",
      "\n",
      "    accuracy                           0.91      1224\n",
      "   macro avg       0.91      0.91      0.91      1224\n",
      "weighted avg       0.91      0.91      0.91      1224\n",
      "\n"
     ]
    },
    {
     "data": {
      "text/plain": [
       "{'crash': 0, 'no_crash': 1}"
      ]
     },
     "execution_count": 39,
     "metadata": {},
     "output_type": "execute_result"
    }
   ],
   "source": [
    "sns.heatmap(confusion_matrix(y_test_processed,base_preds_processed))\n",
    "plt.show()\n",
    "print(classification_report(y_test_processed,base_preds_processed))\n",
    "base_train.class_indices"
   ]
  },
  {
   "cell_type": "markdown",
   "metadata": {},
   "source": [
    "## Iter 1 Black and White"
   ]
  },
  {
   "cell_type": "markdown",
   "metadata": {},
   "source": [
    "Created generator to process images in black and white scale."
   ]
  },
  {
   "cell_type": "code",
   "execution_count": 18,
   "metadata": {},
   "outputs": [
    {
     "name": "stdout",
     "output_type": "stream",
     "text": [
      "Found 3674 images belonging to 2 classes.\n",
      "Found 1224 images belonging to 2 classes.\n"
     ]
    }
   ],
   "source": [
    "BW_base_train = ImageDataGenerator(rescale=1./255).flow_from_directory('images/train',class_mode='categorical',batch_size=3674,color_mode='grayscale')\n",
    "BW_base_test = ImageDataGenerator(rescale=1./255).flow_from_directory('images/test',class_mode='categorical',batch_size=1224,color_mode='grayscale')"
   ]
  },
  {
   "cell_type": "markdown",
   "metadata": {},
   "source": [
    "Unpacking generators."
   ]
  },
  {
   "cell_type": "code",
   "execution_count": 19,
   "metadata": {},
   "outputs": [],
   "source": [
    "X_train_BW, y_train_label_BW = next(BW_base_train)\n",
    "X_test_BW, y_test_label_BW = next(BW_base_test)"
   ]
  },
  {
   "cell_type": "markdown",
   "metadata": {},
   "source": [
    "Saving arrays to numpy binary file."
   ]
  },
  {
   "cell_type": "code",
   "execution_count": 20,
   "metadata": {},
   "outputs": [],
   "source": [
    "#np.save('X_train.npy',X_train_BW)\n",
    "#np.save('y_train.npy',y_train_label_BW)\n",
    "#np.save('X_test',X_test_BW)"
   ]
  },
  {
   "cell_type": "markdown",
   "metadata": {},
   "source": [
    "Loading prediction binary file."
   ]
  },
  {
   "cell_type": "code",
   "execution_count": 21,
   "metadata": {},
   "outputs": [],
   "source": [
    "BW_preds = np.load('preds/BW_preds.npy')"
   ]
  },
  {
   "cell_type": "markdown",
   "metadata": {},
   "source": [
    "Processing and examining results."
   ]
  },
  {
   "cell_type": "code",
   "execution_count": 22,
   "metadata": {},
   "outputs": [],
   "source": [
    "BW_preds_processed = np.array([np.argmax(x) for x in BW_preds])\n",
    "BW_y_test_processed = np.array([np.argmax(x) for x in y_test_label_BW])"
   ]
  },
  {
   "cell_type": "code",
   "execution_count": 40,
   "metadata": {},
   "outputs": [
    {
     "data": {
      "image/png": "[encoded data removed]",
      "text/plain": [
       "<Figure size 432x288 with 2 Axes>"
      ]
     },
     "metadata": {
      "needs_background": "light"
     },
     "output_type": "display_data"
    },
    {
     "name": "stdout",
     "output_type": "stream",
     "text": [
      "              precision    recall  f1-score   support\n",
      "\n",
      "           0       0.89      0.89      0.89       599\n",
      "           1       0.89      0.90      0.90       625\n",
      "\n",
      "    accuracy                           0.89      1224\n",
      "   macro avg       0.89      0.89      0.89      1224\n",
      "weighted avg       0.89      0.89      0.89      1224\n",
      "\n"
     ]
    },
    {
     "data": {
      "text/plain": [
       "{'crash': 0, 'no_crash': 1}"
      ]
     },
     "execution_count": 40,
     "metadata": {},
     "output_type": "execute_result"
    }
   ],
   "source": [
    "sns.heatmap(confusion_matrix(BW_y_test_processed,BW_preds_processed))\n",
    "plt.show()\n",
    "print(classification_report(BW_y_test_processed,BW_preds_processed))\n",
    "BW_base_train.class_indices"
   ]
  }
 ],
 "metadata": {
  "kernelspec": {
   "display_name": "Python 3",
   "language": "python",
   "name": "python3"
  },
  "language_info": {
   "codemirror_mode": {
    "name": "ipython",
    "version": 3
   },
   "file_extension": ".py",
   "mimetype": "text/x-python",
   "name": "python",
   "nbconvert_exporter": "python",
   "pygments_lexer": "ipython3",
   "version": "3.7.7"
  }
 },
 "nbformat": 4,
 "nbformat_minor": 4
}
